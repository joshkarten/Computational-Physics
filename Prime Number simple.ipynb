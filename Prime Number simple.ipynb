{
 "cells": [
  {
   "cell_type": "code",
   "execution_count": 11,
   "metadata": {},
   "outputs": [],
   "source": [
    "import numpy as np\n",
    "from numba import njit\n",
    "import pandas as pd"
   ]
  },
  {
   "cell_type": "markdown",
   "metadata": {},
   "source": [
    "# Hw 3: Finding the first N Prime Numbers\n",
    "## Joshua Karten\n"
   ]
  },
  {
   "cell_type": "code",
   "execution_count": 12,
   "metadata": {},
   "outputs": [],
   "source": [
    "@njit()\n",
    "def determinePrime(Primes, number):\n",
    "\n",
    "    for i in Primes:\n",
    "        if i!=0 and i**2 < number: #Checks for reaching the end of known primes. Needed due to preallocation\n",
    "            if number%i==0: \n",
    "                return False\n",
    "        else: return True\n",
    "@njit()\n",
    "def FindPrime(n):\n",
    "    if n<=0: #edge case\n",
    "        return np.asarray([-1])\n",
    "    primes=np.zeros(n, dtype=np.int64)\n",
    "    primes[0]=2 #saves on some edge case and thus calc time\n",
    "    m=1 #holds array position\n",
    "    i=3 # first number to check\n",
    "    while m<n:\n",
    "        prime = determinePrime(primes, i)\n",
    "        if prime:\n",
    "            primes[m]=i\n",
    "            m+=1 \n",
    "        i+=2 # only need to consider odd numbers\n",
    "        \n",
    "    return primes"
   ]
  },
  {
   "cell_type": "code",
   "execution_count": 13,
   "metadata": {},
   "outputs": [],
   "source": [
    "pn =FindPrime(1000000)\n"
   ]
  },
  {
   "cell_type": "code",
   "execution_count": null,
   "metadata": {},
   "outputs": [],
   "source": [
    "df = pd.DataFrame({\"Primes\":pn})\n",
    "pd.set_option('display.max_rows', 1000000)\n",
    "print(df)"
   ]
  }
 ],
 "metadata": {
  "kernelspec": {
   "display_name": ".venv",
   "language": "python",
   "name": "python3"
  },
  "language_info": {
   "codemirror_mode": {
    "name": "ipython",
    "version": 3
   },
   "file_extension": ".py",
   "mimetype": "text/x-python",
   "name": "python",
   "nbconvert_exporter": "python",
   "pygments_lexer": "ipython3",
   "version": "3.12.4"
  }
 },
 "nbformat": 4,
 "nbformat_minor": 2
}
